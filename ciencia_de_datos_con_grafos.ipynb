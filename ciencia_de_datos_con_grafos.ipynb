{
  "nbformat": 4,
  "nbformat_minor": 0,
  "metadata": {
    "colab": {
      "provenance": [],
      "authorship_tag": "ABX9TyOgPxM0uTAu4KQrWnxDv++U",
      "include_colab_link": true
    },
    "kernelspec": {
      "name": "python3",
      "display_name": "Python 3"
    },
    "language_info": {
      "name": "python"
    }
  },
  "cells": [
    {
      "cell_type": "markdown",
      "metadata": {
        "id": "view-in-github",
        "colab_type": "text"
      },
      "source": [
        "<a href=\"https://colab.research.google.com/github/Marcusreu1/ciencia-de-datos-con-grafos/blob/main/ciencia_de_datos_con_grafos.ipynb\" target=\"_parent\"><img src=\"https://colab.research.google.com/assets/colab-badge.svg\" alt=\"Open In Colab\"/></a>"
      ]
    },
    {
      "cell_type": "markdown",
      "source": [
        "#creacion de grafos y digrafos"
      ],
      "metadata": {
        "id": "nnGpqtv3obLt"
      }
    },
    {
      "cell_type": "code",
      "execution_count": null,
      "metadata": {
        "id": "H8guYzCCbuu8"
      },
      "outputs": [],
      "source": [
        "import matplotlib.pyplot as plt\n",
        "import networkx as nx"
      ]
    },
    {
      "cell_type": "markdown",
      "source": [
        "#creacion del grafo"
      ],
      "metadata": {
        "id": "u-teuHydoyA1"
      }
    },
    {
      "cell_type": "code",
      "source": [
        "grafo= nx.Graph()\n",
        "\n",
        "grafo.add_nodes_from([\"maria\", \"julion\", \"angel\", \"pedro\"])\n",
        "\n",
        "grafo.add_edge(\"maria\", \"julion\", weight= 4)\n",
        "grafo.add_edge(\"maria\", \"angel\", weight= 3)"
      ],
      "metadata": {
        "id": "AUKxHYiVoxzz"
      },
      "execution_count": null,
      "outputs": []
    },
    {
      "cell_type": "markdown",
      "source": [
        "#ver el tamaño del grafo"
      ],
      "metadata": {
        "id": "iET_Z2CyrQLe"
      }
    },
    {
      "cell_type": "code",
      "source": [
        "#numero de vertices y aristas\n",
        "print(\"numero de aristas:\", grafo.number_of_edges())\n",
        "print(\"numero de vertices:\", grafo.number_of_nodes())\n",
        "\n",
        "#ver los vertices y aristas\n",
        "print(\"vertices:\", grafo.nodes())\n",
        "print(\"aristas:\", grafo.edges())"
      ],
      "metadata": {
        "colab": {
          "base_uri": "https://localhost:8080/"
        },
        "id": "oeD-rvOyrc4t",
        "outputId": "b63cec20-5680-4fd9-cf1b-cc94caa3b2cc"
      },
      "execution_count": null,
      "outputs": [
        {
          "output_type": "stream",
          "name": "stdout",
          "text": [
            "numero de aristas: 2\n",
            "numero de vertices: 4\n",
            "vertices: ['maria', 'julion', 'angel', 'pedro']\n",
            "aristas: [('maria', 'julion'), ('maria', 'angel')]\n"
          ]
        }
      ]
    },
    {
      "cell_type": "markdown",
      "source": [
        "#visualizar el grafo"
      ],
      "metadata": {
        "id": "orsTjYZVscVQ"
      }
    },
    {
      "cell_type": "code",
      "source": [
        "plt.figure(figsize=(3,3))\n",
        "\n",
        "#posiciona adecuadamente los vertices (x,y)\n",
        "posiciones=nx.spring_layout(grafo, seed=10)\n",
        "\n",
        "#extrae los pesos de las aristas\n",
        "pesos=nx.get_edge_attributes(grafo, \"weight\")\n",
        "\n",
        "#dibuja los vertices en la posicion adecuada\n",
        "nx.draw(grafo, posiciones, with_labels=True)\n",
        "\n",
        "#dibujar las etiquetas adecuadamente\n",
        "nx.draw_networkx_edge_labels(grafo,posiciones, edge_labels=pesos)\n",
        "plt.show()"
      ],
      "metadata": {
        "colab": {
          "base_uri": "https://localhost:8080/",
          "height": 337
        },
        "id": "faN0lGHTsWez",
        "outputId": "c3818f30-7f6c-454c-fe84-fe357f0903e9"
      },
      "execution_count": null,
      "outputs": [
        {
          "output_type": "display_data",
          "data": {
            "text/plain": [
              "<Figure size 300x300 with 1 Axes>"
            ],
            "image/png": "[encoded data removed]"
          },
          "metadata": {}
        }
      ]
    },
    {
      "cell_type": "markdown",
      "source": [
        "#digrafos"
      ],
      "metadata": {
        "id": "0SlBD5uXyOzh"
      }
    },
    {
      "cell_type": "code",
      "source": [
        "digrafo= nx.DiGraph()\n",
        "\n",
        "digrafo.add_nodes_from([\"maria\", \"julion\", \"angel\", \"pedro\"])\n",
        "\n",
        "digrafo.add_edge(\"maria\", \"pedro\")\n",
        "digrafo.add_edge(\"julion\", \"pedro\")\n",
        "digrafo.add_edge(\"angel\", \"pedro\")\n"
      ],
      "metadata": {
        "id": "24hh5lMzyZBX"
      },
      "execution_count": null,
      "outputs": []
    },
    {
      "cell_type": "code",
      "source": [
        "#numero de vertices y aristas\n",
        "print(\"numero de aristas:\", digrafo.number_of_edges())\n",
        "print(\"numero de vertices:\", digrafo.number_of_nodes())\n",
        "\n",
        "#ver los vertices y aristas\n",
        "print(\"vertices:\", digrafo.nodes())\n",
        "print(\"aristas:\", digrafo.edges())"
      ],
      "metadata": {
        "colab": {
          "base_uri": "https://localhost:8080/"
        },
        "id": "acMdHCqgyzSb",
        "outputId": "a5c8d311-44ec-48fc-e680-c82d420a59f7"
      },
      "execution_count": null,
      "outputs": [
        {
          "output_type": "stream",
          "name": "stdout",
          "text": [
            "numero de aristas: 3\n",
            "numero de vertices: 4\n",
            "vertices: ['maria', 'julion', 'angel', 'pedro']\n",
            "aristas: [('maria', 'pedro'), ('julion', 'pedro'), ('angel', 'pedro')]\n"
          ]
        }
      ]
    },
    {
      "cell_type": "code",
      "source": [
        "plt.figure(figsize=(3,3))\n",
        "\n",
        "#posiciona adecuadamente los vertices (x,y)\n",
        "posiciones=nx.spring_layout(digrafo, seed=1)\n",
        "\n",
        "#extrae los pesos de las aristas\n",
        "#pesos=nx.get_edge_attributes(digrafo, \"weight\")\n",
        "\n",
        "#dibuja los vertices en la posicion adecuada\n",
        "nx.draw(grafo, posiciones, with_labels=True)\n",
        "\n",
        "#dibujar las etiquetas adecuadamente\n",
        "#nx.draw_networkx_edge_labels(digrafo,posiciones, edge_labels=pesos)\n",
        "plt.show()"
      ],
      "metadata": {
        "colab": {
          "base_uri": "https://localhost:8080/",
          "height": 337
        },
        "id": "VlQkaew_y-ts",
        "outputId": "4086169a-f285-4f4b-b975-1e5c5ca1b82b"
      },
      "execution_count": null,
      "outputs": [
        {
          "output_type": "display_data",
          "data": {
            "text/plain": [
              "<Figure size 300x300 with 1 Axes>"
            ],
            "image/png": "[encoded data removed]"
          },
          "metadata": {}
        }
      ]
    }
  ]
}